{
  "cells": [
    {
      "cell_type": "markdown",
      "metadata": {
        "id": "Qh-fqsypCjcu"
      },
      "source": [
        "#### Installing weight and biases library"
      ]
    },
    {
      "cell_type": "code",
      "execution_count": null,
      "metadata": {
        "id": "LFKHk-Hn_r57"
      },
      "outputs": [],
      "source": [
        "!pip install wandb"
      ]
    },
    {
      "cell_type": "markdown",
      "metadata": {
        "id": "zDxk5SHNBwqC"
      },
      "source": [
        "## Loading the dataset: Used Car Price Prediction"
      ]
    },
    {
      "cell_type": "code",
      "execution_count": null,
      "metadata": {
        "id": "c9gF4R9gFds_"
      },
      "outputs": [],
      "source": [
        "import pandas as pd\n",
        "import numpy as np\n",
        "from sklearn.linear_model import LinearRegression\n",
        "from sklearn.tree import DecisionTreeRegressor\n",
        "from sklearn.model_selection import train_test_split, GridSearchCV\n",
        "from sklearn.metrics import r2_score, mean_squared_error\n",
        "import wandb\n",
        "import os"
      ]
    },
    {
      "cell_type": "code",
      "execution_count": null,
      "metadata": {
        "id": "E2eCp6WPFjCQ"
      },
      "outputs": [],
      "source": [
        "cars_df = pd.read_csv( \"https://drive.google.com/uc?export=download&id=10ABViLN4Q7vgIlLvepCduU4B3C6BneJR\" )"
      ]
    },
    {
      "cell_type": "code",
      "execution_count": null,
      "metadata": {
        "id": "9w_Ywj6SFwrc"
      },
      "outputs": [],
      "source": [
        "cars_df.head(5)"
      ]
    },
    {
      "cell_type": "code",
      "execution_count": null,
      "metadata": {
        "id": "sehIIbSBFnD1"
      },
      "outputs": [],
      "source": [
        "x_columns = ['KM_Driven', 'Fuel_Type', 'age',\n",
        "             'Transmission', 'Owner_Type', 'Seats',\n",
        "             'make', 'mileage', 'engine',\n",
        "             'power', 'Location']\n",
        "## model of the car is not included in the model"
      ]
    },
    {
      "cell_type": "code",
      "execution_count": null,
      "metadata": {
        "id": "-JteBYVPShF3"
      },
      "outputs": [],
      "source": [
        "cars_df.shape"
      ]
    },
    {
      "cell_type": "code",
      "execution_count": null,
      "metadata": {
        "id": "pVC9f4QISa2h"
      },
      "outputs": [],
      "source": [
        "cars_df = cars_df[x_columns + ['Price']].dropna()"
      ]
    },
    {
      "cell_type": "code",
      "execution_count": null,
      "metadata": {
        "id": "l_bULZE0SjBf"
      },
      "outputs": [],
      "source": [
        "cars_df.shape"
      ]
    },
    {
      "cell_type": "markdown",
      "metadata": {
        "id": "8IwqnNNkB4ON"
      },
      "source": [
        "## Identifying numerical and categorical features"
      ]
    },
    {
      "cell_type": "code",
      "execution_count": null,
      "metadata": {
        "id": "PuezADwYFsWd"
      },
      "outputs": [],
      "source": [
        "cat_features = ['Fuel_Type',\n",
        "                'Transmission', 'Owner_Type',\n",
        "                'make', 'Location']"
      ]
    },
    {
      "cell_type": "code",
      "execution_count": null,
      "metadata": {
        "id": "IyzKKTogFs_l"
      },
      "outputs": [],
      "source": [
        "num_features = list(set(x_columns) - set(cat_features))"
      ]
    },
    {
      "cell_type": "markdown",
      "metadata": {
        "id": "3cw3DZI0B--Y"
      },
      "source": [
        "## Utility method for preparing the data\n",
        "\n",
        "- Splitting the dataset\n",
        "- Encoding Catgorical Variables"
      ]
    },
    {
      "cell_type": "code",
      "execution_count": null,
      "metadata": {
        "id": "OVpd24a_CjGx"
      },
      "outputs": [],
      "source": [
        "X = cars_df[x_columns]\n",
        "y = cars_df.Price"
      ]
    },
    {
      "cell_type": "code",
      "execution_count": null,
      "metadata": {
        "id": "EVBjH9HuFu29"
      },
      "outputs": [],
      "source": [
        "# Split the dataset into train and test split\n",
        "x_train, x_test, y_train, y_test = train_test_split(X,\n",
        "                                                    y,\n",
        "                                                    train_size = 0.8,\n",
        "                                                    random_state = 100)"
      ]
    },
    {
      "cell_type": "markdown",
      "metadata": {
        "id": "95m2NylquEkX"
      },
      "source": [
        "### Creating ML Pipeline"
      ]
    },
    {
      "cell_type": "code",
      "execution_count": null,
      "metadata": {
        "id": "ESUnpd_UuD0q"
      },
      "outputs": [],
      "source": [
        "from sklearn.impute import SimpleImputer\n",
        "from sklearn.preprocessing import OneHotEncoder\n",
        "from sklearn.preprocessing import StandardScaler\n",
        "from sklearn.compose import ColumnTransformer\n",
        "from sklearn.pipeline import Pipeline"
      ]
    },
    {
      "cell_type": "code",
      "execution_count": null,
      "metadata": {
        "id": "prGDoYhHuMFx"
      },
      "outputs": [],
      "source": [
        "ohe_encoder = OneHotEncoder(handle_unknown='ignore')\n",
        "scaler = StandardScaler()\n",
        "\n",
        "## Creating the imputer for columns that have missing values\n",
        "imputed_num_vars = ['Seats']\n",
        "non_imputed_num_vars = list(set(num_features) - set(imputed_num_vars))\n",
        "mean_imputer = SimpleImputer(strategy='mean')\n",
        "\n",
        "\n",
        "## Pipeline for the applying imputation and then scaling\n",
        "imputed_num_transformer = Pipeline( steps = [\n",
        "        ('imputation', mean_imputer),\n",
        "        ('scaler', scaler)])\n",
        "\n",
        "non_imputed_num_transformer = Pipeline( steps = [('scaler', scaler)])\n",
        "\n",
        "\n",
        "## Pipeline for OHE encoding the categorical columns\n",
        "cat_transformer = Pipeline( steps = [('ohencoder', ohe_encoder)])\n",
        "\n",
        "## The complete pipeline for applying the required transformatinons to the respective columns\n",
        "preprocessor = ColumnTransformer(\n",
        "    transformers=[\n",
        "        ('num_imputed', imputed_num_transformer, imputed_num_vars),\n",
        "        ('num_not_imputed', non_imputed_num_transformer, non_imputed_num_vars),\n",
        "        ('catvars', cat_transformer, cat_features)])"
      ]
    },
    {
      "cell_type": "markdown",
      "metadata": {
        "id": "upOACsr6CJqv"
      },
      "source": [
        "## Initilializing Weights and Biases"
      ]
    },
    {
      "cell_type": "code",
      "execution_count": null,
      "metadata": {
        "id": "YG1EhTbw7u0O"
      },
      "outputs": [],
      "source": [
        "os.environ[\"WANDB_API_KEY\"] = \"ddb79e032887f0a8e6e54fc954e8fdc8a40c1af2\""
      ]
    },
    {
      "cell_type": "markdown",
      "metadata": {
        "id": "ECHNUVs9jPLD"
      },
      "source": [
        "## Baseline Model: Linear Regression"
      ]
    },
    {
      "cell_type": "code",
      "execution_count": null,
      "metadata": {
        "id": "U26ebSZ8O5EX"
      },
      "outputs": [],
      "source": [
        "linear_reg = LinearRegression()\n",
        "\n",
        "linear_model = Pipeline(steps=[('preprocessor', preprocessor),\n",
        "                               ('linear_model', linear_reg)])\n",
        "## Pipeline for the applying imputation and then scaling\n",
        "\n",
        "linear_model.fit(x_train, y_train)\n",
        "\n",
        "wandb.init(project='mlops_usedcar', config=None, tags = ['Linear Model', 'baseline', 'OHE Encoding'])\n",
        "wandb.run.name = \"LinearModel\"\n",
        "rmse = np.sqrt(mean_squared_error(y_test, linear_model.predict(x_test)))\n",
        "r2 = linear_model.score(x_test, y_test)\n",
        "\n",
        "wandb.log( {\"rmse\" : rmse,\n",
        "            \"r2\": r2} )\n",
        "\n",
        "wandb.Artifact(\"LinearModel\",\n",
        "               type = 'model',\n",
        "               description = None)\n",
        "\n",
        "wandb.save()\n",
        "wandb.finish()"
      ]
    },
    {
      "cell_type": "code",
      "execution_count": null,
      "metadata": {
        "id": "jOIieswFjRl4"
      },
      "outputs": [],
      "source": [
        "params = {\"max_depth\": 10}\n",
        "\n",
        "dtree = DecisionTreeRegressor(**params)\n",
        "\n",
        "dtree_model = Pipeline(steps=[('preprocessor', preprocessor),\n",
        "                               ('dt_model', dtree)])\n",
        "\n",
        "\n",
        "dtree_model.fit(x_train, y_train)\n",
        "\n",
        "wandb.init(project='mlops_usedcar', config=params, tags = ['Decision Tree',\n",
        "                                                           'OHE Encoding'])\n",
        "wandb.run.name = \"DecisionTree\"\n",
        "rmse = np.sqrt(mean_squared_error(y_test, dtree_model.predict(x_test)))\n",
        "r2 = dtree_model.score(x_test, y_test)\n",
        "\n",
        "wandb.log( {\"rmse\" : rmse,\n",
        "            \"r2\": r2} )\n",
        "\n",
        "wandb.Artifact(\"DecisionTree\",\n",
        "               type = 'model',\n",
        "               description = params)\n",
        "\n",
        "wandb.save()\n",
        "wandb.finish()"
      ]
    },
    {
      "cell_type": "markdown",
      "source": [
        "## Manual Grid Search"
      ],
      "metadata": {
        "id": "K19LqnSoNs4V"
      }
    },
    {
      "cell_type": "code",
      "source": [
        "from sklearn.model_selection import GridSearchCV"
      ],
      "metadata": {
        "id": "s_ick_Gln-nf"
      },
      "execution_count": null,
      "outputs": []
    },
    {
      "cell_type": "code",
      "source": [
        "params = { \"dt_model__max_depth\" : range(5, 10)}"
      ],
      "metadata": {
        "id": "Vf5fO85yoHYq"
      },
      "execution_count": null,
      "outputs": []
    },
    {
      "cell_type": "code",
      "source": [
        "dtree = DecisionTreeRegressor()\n",
        "\n",
        "dtree_model = Pipeline(steps=[('preprocessor', preprocessor),\n",
        "                               ('dt_model', dtree)])"
      ],
      "metadata": {
        "id": "-GxEjFOdoavH"
      },
      "execution_count": null,
      "outputs": []
    },
    {
      "cell_type": "code",
      "source": [
        "dt_grid = GridSearchCV(dtree_model,\n",
        "                       param_grid = params,\n",
        "                       cv = 10,\n",
        "                       scoring = 'r2')"
      ],
      "metadata": {
        "id": "v-KMXCkyoOaE"
      },
      "execution_count": null,
      "outputs": []
    },
    {
      "cell_type": "code",
      "source": [
        "dt_grid.fit(x_train, y_train)"
      ],
      "metadata": {
        "id": "HthC0QRto06z"
      },
      "execution_count": null,
      "outputs": []
    },
    {
      "cell_type": "code",
      "source": [
        "dt_grid.best_params_"
      ],
      "metadata": {
        "id": "14V5-i_kqkoa"
      },
      "execution_count": null,
      "outputs": []
    },
    {
      "cell_type": "code",
      "source": [
        "dt_grid.best_score_"
      ],
      "metadata": {
        "id": "kMlUFHB5qmhi"
      },
      "execution_count": null,
      "outputs": []
    },
    {
      "cell_type": "code",
      "source": [
        "pd.DataFrame(dt_grid.cv_results_)"
      ],
      "metadata": {
        "id": "FosX7qZzqtZZ"
      },
      "execution_count": null,
      "outputs": []
    },
    {
      "cell_type": "markdown",
      "source": [
        "### Using Sweep Features"
      ],
      "metadata": {
        "id": "jnfNMJRTNyGo"
      }
    },
    {
      "cell_type": "code",
      "source": [
        "def train_decision_tree(config=None):\n",
        "    # Initialize WandB\n",
        "    with wandb.init(config=config):\n",
        "        config = wandb.config\n",
        "\n",
        "        dtree = DecisionTreeRegressor(max_depth=config.max_depth)\n",
        "\n",
        "        dtree_model = Pipeline(steps=[('preprocessor', preprocessor),\n",
        "                                      ('dt_model', dtree)])\n",
        "        dtree_model.fit(x_train, y_train)\n",
        "\n",
        "        # Evaluate the model\n",
        "        rmse = np.sqrt(mean_squared_error(y_test, dtree_model.predict(x_test)))\n",
        "        r2 = dtree_model.score(x_test, y_test)\n",
        "\n",
        "        # Log metrics to WandB\n",
        "        wandb.log( {\"rmse\" : rmse,\n",
        "                    \"r2\": r2,\n",
        "                    \"max_depth\": config.max_depth} )\n"
      ],
      "metadata": {
        "id": "lJpgjDKmNz1i"
      },
      "execution_count": null,
      "outputs": []
    },
    {
      "cell_type": "code",
      "source": [
        "sweep_config = {\n",
        "    \"method\": \"grid\",  # Can be 'grid', 'random', or 'bayes'\n",
        "    \"metric\": {\"name\": \"r2\", \"goal\": \"maximize\"},\n",
        "    \"parameters\": {\n",
        "        \"max_depth\": {\n",
        "            \"values\": [4, 6, 8, 12]  # Depths to evaluate\n",
        "        },\n",
        "    },\n",
        "}"
      ],
      "metadata": {
        "id": "-KqcfluoO0XT"
      },
      "execution_count": null,
      "outputs": []
    },
    {
      "cell_type": "code",
      "source": [
        "sweep_id = wandb.sweep(sweep_config, project=\"mlops_usedcar\")"
      ],
      "metadata": {
        "id": "spyQXOr8PAyr"
      },
      "execution_count": null,
      "outputs": []
    },
    {
      "cell_type": "code",
      "source": [
        "wandb.agent(sweep_id,\n",
        "            function=train_decision_tree)  # Run all experiments"
      ],
      "metadata": {
        "id": "tdPXeGEnPEA0"
      },
      "execution_count": null,
      "outputs": []
    },
    {
      "cell_type": "markdown",
      "metadata": {
        "id": "Tc2Y0q0tstyt"
      },
      "source": [
        "## Get Experiment Details"
      ]
    },
    {
      "cell_type": "code",
      "execution_count": null,
      "metadata": {
        "id": "LhVbmfglBrBN"
      },
      "outputs": [],
      "source": [
        "api = wandb.Api()\n",
        "\n",
        "all_runs = api.runs(\"awesomestats/mlops_usedcar\", order=\"+summary_metrics.rmse\")\n",
        "\n",
        "for run in all_runs:\n",
        "  print(f\"Model Name: {run.name} and R2 {run.summary.get('r2')}\")\n",
        "  print(run.config)"
      ]
    },
    {
      "cell_type": "markdown",
      "metadata": {
        "id": "reQT8PGz066E"
      },
      "source": [
        "### Storing the model into a file"
      ]
    },
    {
      "cell_type": "code",
      "execution_count": null,
      "metadata": {
        "id": "an76JQJ40oi2"
      },
      "outputs": [],
      "source": [
        "from joblib import dump\n",
        "\n",
        "MODEL_DIR = \"./carsmodel\"\n",
        "\n",
        "os.mkdir(MODEL_DIR)\n",
        "dump(linear_model, MODEL_DIR + \"/\" + 'cars.pkl')"
      ]
    },
    {
      "cell_type": "markdown",
      "metadata": {
        "id": "GBddx9l12fin"
      },
      "source": [
        "### Logging the model artifact in the tracking tools (weights and Biases)"
      ]
    },
    {
      "cell_type": "code",
      "execution_count": null,
      "metadata": {
        "id": "fOs-DhVy2ewN"
      },
      "outputs": [],
      "source": [
        "wandb.init(project='mlops_usedcar',\n",
        "           config=None,\n",
        "           tags = ['Final Model'])\n",
        "wandb.run.name = \"FinalModel\""
      ]
    },
    {
      "cell_type": "code",
      "execution_count": null,
      "metadata": {
        "id": "GzFgAm_P3_Mg"
      },
      "outputs": [],
      "source": [
        "model_artifact = wandb.Artifact(\"Linear_Model_UsedCar\",\n",
        "                                type = 'model',\n",
        "                                description = 'Linear Model for used car price prediction')"
      ]
    },
    {
      "cell_type": "code",
      "execution_count": null,
      "metadata": {
        "id": "63fAwtbv45d2"
      },
      "outputs": [],
      "source": [
        "model_artifact.add_dir(MODEL_DIR)"
      ]
    },
    {
      "cell_type": "code",
      "execution_count": null,
      "metadata": {
        "id": "z9zoYjku47Sn"
      },
      "outputs": [],
      "source": [
        "wandb.run.log_artifact(model_artifact)"
      ]
    },
    {
      "cell_type": "code",
      "execution_count": null,
      "metadata": {
        "id": "zZRZVdrM5KCV"
      },
      "outputs": [],
      "source": [
        "wandb.save()\n",
        "wandb.finish()"
      ]
    },
    {
      "cell_type": "code",
      "execution_count": null,
      "metadata": {
        "id": "LfcDz2K5F4q6"
      },
      "outputs": [],
      "source": [
        "import sklearn\n",
        "sklearn.__version__"
      ]
    }
  ],
  "metadata": {
    "colab": {
      "provenance": []
    },
    "kernelspec": {
      "display_name": "Python 3 (ipykernel)",
      "language": "python",
      "name": "python3"
    },
    "language_info": {
      "codemirror_mode": {
        "name": "ipython",
        "version": 3
      },
      "file_extension": ".py",
      "mimetype": "text/x-python",
      "name": "python",
      "nbconvert_exporter": "python",
      "pygments_lexer": "ipython3",
      "version": "3.10.9"
    }
  },
  "nbformat": 4,
  "nbformat_minor": 0
}